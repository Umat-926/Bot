{
  "nbformat": 4,
  "nbformat_minor": 0,
  "metadata": {
    "colab": {
      "provenance": [],
      "authorship_tag": "ABX9TyPihoyR7Bly10OFScBdalmG",
      "include_colab_link": true
    },
    "kernelspec": {
      "name": "python3",
      "display_name": "Python 3"
    },
    "language_info": {
      "name": "python"
    }
  },
  "cells": [
    {
      "cell_type": "markdown",
      "metadata": {
        "id": "view-in-github",
        "colab_type": "text"
      },
      "source": [
        "<a href=\"https://colab.research.google.com/github/murat-uluu-umar/Bot/blob/main/ChatWithMe.ipynb\" target=\"_parent\"><img src=\"https://colab.research.google.com/assets/colab-badge.svg\" alt=\"Open In Colab\"/></a>"
      ]
    },
    {
      "cell_type": "markdown",
      "source": [
        "# Boty\n",
        "This bot is able to talk in English and Russian languages."
      ],
      "metadata": {
        "id": "JMFW_QvzizRw"
      }
    },
    {
      "cell_type": "code",
      "execution_count": 5,
      "metadata": {
        "colab": {
          "base_uri": "https://localhost:8080/"
        },
        "cellView": "form",
        "id": "lpnuS2gOfTH5",
        "outputId": "66d80c53-39fd-46d6-d78a-e8d4b4ffe8b4"
      },
      "outputs": [
        {
          "output_type": "stream",
          "name": "stdout",
          "text": [
            "Hi\n",
            "good morning\n",
            "How are you?\n",
            "i feel good, and you?\n",
            "I'm fine!\n",
            "are you playing videogames?\n",
            "Not at all\n",
            "that sounds interesting\n",
            "what about you?\n",
            "fine, thank you\n",
            "Okay\n",
            "what do you do in your spare time?\n",
            "I draw a pictures\n",
            "that sounds interesting\n",
            "And you?\n",
            "awesome\n",
            "Okay, goodbye\n",
            "see you soon\n"
          ]
        }
      ],
      "source": [
        "!git clone https://github.com/murat-uluu-umar/Bot\n",
        "#@title Talk here! Just run it.\n",
        "from sklearn.feature_extraction.text import TfidfVectorizer\n",
        "from sklearn.ensemble import RandomForestClassifier\n",
        "import random\n",
        "import json\n",
        "import os\n",
        "\n",
        "#load dataset\n",
        "with open('/content/Bot/BOT_CONFIG - 22.06.2021.json') as f:\n",
        "    BOT_CONFIG = json.load(f)\n",
        "\n",
        "def bot(word, classifier, vectorizer):\n",
        "    #bot's communications\n",
        "    predicted = classifier.predict(vectorizer.transform([word]))[0]\n",
        "    return predicted\n",
        "\n",
        "def prepare_data():\n",
        "    #prepare dataset for learning model\n",
        "    X, y = [], []\n",
        "    for intent in BOT_CONFIG['intents']:\n",
        "        for example in BOT_CONFIG['intents'][intent]['examples']:\n",
        "            X.append(example)\n",
        "            y.append(intent)\n",
        "    return X, y\n",
        "\n",
        "def learn_model():\n",
        "    X, y = prepare_data()\n",
        "    #convert words into nums\n",
        "    vectorizer = TfidfVectorizer(analyzer='char')\n",
        "    vectorizer.fit(X)\n",
        "    X_vectors = vectorizer.transform(X)\n",
        "    #learn model\n",
        "    rf = RandomForestClassifier(n_estimators=100,criterion='gini')\n",
        "    rf.fit(X_vectors,y)\n",
        "    return X_vectors, y, rf, vectorizer\n",
        "\n",
        "if __name__ == '__main__':\n",
        "    X, y, rf, vectorizer = learn_model()\n",
        "    #main cycle\n",
        "    while True:\n",
        "        word = str(input())\n",
        "        predicted = bot(word,rf,vectorizer)\n",
        "        print(random.choice(BOT_CONFIG['intents'][predicted]['responses']))\n",
        "        if predicted == \"bye\": \n",
        "          break"
      ]
    }
  ]
}
